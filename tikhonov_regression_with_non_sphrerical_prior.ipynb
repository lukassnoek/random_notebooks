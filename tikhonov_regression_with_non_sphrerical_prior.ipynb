{
 "cells": [
  {
   "cell_type": "markdown",
   "metadata": {},
   "source": [
    "# Improving predictive models using non-spherical Gaussian priors\n",
    "Based on the CNN abstract of [Nunez-Elizalde, Huth, & Gallant](https://www2.securecms.com/CCNeuro/docs-0/5928d71e68ed3f844e8a256f.pdf)."
   ]
  },
  {
   "cell_type": "code",
   "execution_count": 1,
   "metadata": {},
   "outputs": [],
   "source": [
    "import numpy as np\n",
    "import matplotlib.pyplot as plt\n",
    "from scipy.stats import pearsonr\n",
    "from scipy.linalg import toeplitz\n",
    "from sklearn.model_selection import KFold\n",
    "from sklearn.linear_model import Ridge, RidgeCV, LinearRegression\n",
    "from sklearn.preprocessing import StandardScaler\n",
    "from sklearn.pipeline import Pipeline\n",
    "from tqdm import tqdm_notebook\n",
    "%matplotlib inline"
   ]
  },
  {
   "cell_type": "markdown",
   "metadata": {},
   "source": [
    "First, let's generate some data with 100 ($N$) samples and 750 ($K$) features. We'll generate the true parameters ($\\beta$), for which we'll calculate the covariance matrix ($C$). "
   ]
  },
  {
   "cell_type": "code",
   "execution_count": 118,
   "metadata": {},
   "outputs": [
    {
     "data": {
      "image/png": "[encoded data removed]",
      "text/plain": [
       "<Figure size 432x288 with 1 Axes>"
      ]
     },
     "metadata": {},
     "output_type": "display_data"
    }
   ],
   "source": [
    "N, K = 100, 500\n",
    "X = np.random.normal(0, 1, (N, K))\n",
    "X = np.c_[np.ones(N), X]\n",
    "\n",
    "mu_betas = np.zeros(K+1)\n",
    "cov_betas = 0.99**toeplitz(np.arange(0, K+1))\n",
    "betas = np.random.multivariate_normal(mu_betas, cov_betas).T\n",
    "C = cov_betas\n",
    "\n",
    "plt.imshow(cov_betas)\n",
    "plt.axis('off')\n",
    "plt.title(r'$\\mathrm{cov}[\\beta]$')\n",
    "plt.show()\n",
    "\n",
    "noise = np.random.normal(0, 1, size=N)\n",
    "y = X.dot(betas) + noise"
   ]
  },
  {
   "cell_type": "markdown",
   "metadata": {},
   "source": [
    "### Standard linear regression (no regularization)"
   ]
  },
  {
   "cell_type": "code",
   "execution_count": 84,
   "metadata": {},
   "outputs": [
    {
     "name": "stdout",
     "output_type": "stream",
     "text": [
      "[ 0.00146098 -1.26386231 -0.81397162 -0.17173912  0.17675119 -0.4835256\n",
      " -0.23127051  0.10100828  0.09224479  0.51557766]\n",
      "\n",
      "R: -0.207733. (0.496)\n"
     ]
    }
   ],
   "source": [
    "folds = KFold(n_splits=10)\n",
    "\n",
    "pipe = Pipeline([\n",
    "    ('scaler', StandardScaler()),\n",
    "    ('model', LinearRegression())\n",
    "])\n",
    "\n",
    "scores = np.zeros(10)\n",
    "for i, (train_idx, test_idx) in enumerate(folds.split(X, y)):\n",
    "    pipe.fit(X[train_idx], y[train_idx])\n",
    "    scores[i] = pipe.score(X[test_idx], y[test_idx])\n",
    "\n",
    "print(scores, end='\\n\\n')\n",
    "print(\"R: %3f. (%.3f)\" % (scores.mean(), scores.std()))"
   ]
  },
  {
   "cell_type": "markdown",
   "metadata": {},
   "source": [
    "### Ridge"
   ]
  },
  {
   "cell_type": "code",
   "execution_count": 164,
   "metadata": {},
   "outputs": [
    {
     "name": "stdout",
     "output_type": "stream",
     "text": [
      "[ 0.36829096 -0.64184433  0.02503782 -0.42057347  0.04598201  0.24203902\n",
      "  0.31045416  0.28774166  0.51904358  0.40496347]\n",
      "\n",
      "R: 0.114113. (0.356)\n"
     ]
    }
   ],
   "source": [
    "folds = KFold(n_splits=10)\n",
    "pipe = Pipeline([\n",
    "    ('scaler', StandardScaler()),\n",
    "    ('model', RidgeCV(alphas=[0.001, 0.01, 0.1, 1, 10, 100, 1000]))\n",
    "])\n",
    "\n",
    "scores = np.zeros(10)\n",
    "for i, (train_idx, test_idx) in enumerate(folds.split(X, y)):\n",
    "    pipe.fit(X[train_idx], y[train_idx])\n",
    "    preds = pipe.predict(X[test_idx])\n",
    "    scores[i] = pipe.score(X[test_idx], y[test_idx])\n",
    "\n",
    "print(scores, end='\\n\\n')\n",
    "print(\"R: %3f. (%.3f)\" % (scores.mean(), scores.std()))"
   ]
  },
  {
   "cell_type": "markdown",
   "metadata": {},
   "source": [
    "### Tikhonov\n",
    "The traditional solution for Tikhonov regression, for any design matrix $X$ and reponse vector $y$, is usually written as follows:\n",
    "\n",
    "\\begin{align}\n",
    "\\hat{\\beta} = (X^{T}X + \\lambda C^{T}C)^{-1}X^{T}y\n",
    "\\end{align}\n",
    "\n",
    "in which $C$ represents the penalty matrix and $\\lambda$ the regularization parameter. In this formulation, the prior on the model is that $\\beta$ is distributed with zero mean and $(\\lambda C^{T}C)^{-1}$ covariance. Alternatively, the estimation of the parameters ($\\beta$) can be written as:\n",
    "\n",
    "\\begin{align}\n",
    "\\hat{\\beta} = C^{-1}(A^{T}A + \\lambda I)^{-1}X^{T}y\n",
    "\\end{align}\n",
    "\n",
    "with $A$ defined as:\n",
    "\n",
    "\\begin{align}\n",
    "A = XC^{-1}\n",
    "\\end{align}\n",
    "\n",
    "Let's define a scikit-learn style class for generic Tikhonov regression:"
   ]
  },
  {
   "cell_type": "code",
   "execution_count": 165,
   "metadata": {},
   "outputs": [],
   "source": [
    "from sklearn.base import BaseEstimator, RegressorMixin\n",
    "\n",
    "class Tikhonov(BaseEstimator, RegressorMixin):\n",
    "    \n",
    "    def __init__(self, C, lambd=1.):\n",
    "        self.C = C\n",
    "        self.lambd = lambd\n",
    "        \n",
    "    def fit(self, X, y, sample_weight=None):\n",
    "        C = self.C\n",
    "        var_beta = C#np.linalg.inv(C)\n",
    "        self.coef_ = np.linalg.inv(X.T.dot(X) + self.lambd*var_beta).dot(X.T).dot(y)\n",
    "        return self\n",
    "\n",
    "    def predict(self, X, y=None):\n",
    "        return X.dot(self.coef_)"
   ]
  },
  {
   "cell_type": "markdown",
   "metadata": {},
   "source": [
    "Now, let's run our (cross-validated) Tikhonov regression:"
   ]
  },
  {
   "cell_type": "code",
   "execution_count": 174,
   "metadata": {},
   "outputs": [
    {
     "data": {
      "application/vnd.jupyter.widget-view+json": {
       "model_id": "65ec6db8e5a24fc6826cba57eb68162c",
       "version_major": 2,
       "version_minor": 0
      },
      "text/html": [
       "<p>Failed to display Jupyter Widget of type <code>HBox</code>.</p>\n",
       "<p>\n",
       "  If you're reading this message in the Jupyter Notebook or JupyterLab Notebook, it may mean\n",
       "  that the widgets JavaScript is still loading. If this message persists, it\n",
       "  likely means that the widgets JavaScript library is either not installed or\n",
       "  not enabled. See the <a href=\"https://ipywidgets.readthedocs.io/en/stable/user_install.html\">Jupyter\n",
       "  Widgets Documentation</a> for setup instructions.\n",
       "</p>\n",
       "<p>\n",
       "  If you're reading this message in another frontend (for example, a static\n",
       "  rendering on GitHub or <a href=\"https://nbviewer.jupyter.org/\">NBViewer</a>),\n",
       "  it may mean that your frontend doesn't currently support widgets.\n",
       "</p>\n"
      ],
      "text/plain": [
       "HBox(children=(IntProgress(value=1, bar_style='info', max=1), HTML(value='')))"
      ]
     },
     "metadata": {},
     "output_type": "display_data"
    },
    {
     "name": "stdout",
     "output_type": "stream",
     "text": [
      "\n",
      "[ 0.32944335 -0.55717775  0.06132024 -0.40716058  0.05440933  0.24783417\n",
      "  0.30664627  0.28990308  0.43979166  0.39932874]\n",
      "\n",
      "R2: 0.116434. (0.324)\n"
     ]
    },
    {
     "data": {
      "text/plain": [
       "[<matplotlib.lines.Line2D at 0x7f8539a83390>]"
      ]
     },
     "execution_count": 174,
     "metadata": {},
     "output_type": "execute_result"
    },
    {
     "data": {
      "image/png": "[encoded data removed]",
      "text/plain": [
       "<Figure size 432x288 with 1 Axes>"
      ]
     },
     "metadata": {},
     "output_type": "display_data"
    }
   ],
   "source": [
    "from sklearn.model_selection import GridSearchCV\n",
    "\n",
    "folds = KFold(n_splits=10)\n",
    "gs = GridSearchCV(estimator=Tikhonov(C=cov_betas), param_grid=dict(lambd=[0.01, 0.1, 1, 10, 100, 1000]))\n",
    "\n",
    "pipe = Pipeline([\n",
    "    ('scaler', StandardScaler()),\n",
    "    ('model', gs)\n",
    "])\n",
    "\n",
    "scores = np.zeros(10)\n",
    "for i, (train_idx, test_idx) in tqdm_notebook(enumerate(folds.split(X, y))):\n",
    "\n",
    "    pipe.fit(X[train_idx], y[train_idx])\n",
    "    preds = pipe.predict(X[test_idx])\n",
    "    scores[i] = pipe.score(X[test_idx], y[test_idx])\n",
    "\n",
    "print(scores, end='\\n\\n')\n",
    "print(\"R2: %3f. (%.3f)\" % (scores.mean(), scores.std()))\n",
    "\n",
    "plt.plot(betas)\n",
    "plt.plot(gs.best_estimator_.coef_)"
   ]
  },
  {
   "cell_type": "markdown",
   "metadata": {},
   "source": [
    "For some reason, I don't get the same output when I use the alternative (\"fast\") solution for the $\\beta$ parameters (i.e. the one using $A = XC^{-1}$):"
   ]
  },
  {
   "cell_type": "code",
   "execution_count": null,
   "metadata": {},
   "outputs": [],
   "source": [
    "betas_slow = np.linalg.inv(X.T.dot(X) + lambd * np.linalg.inv(C.T.dot(C))).dot(X.T).dot(y)\n",
    "\n",
    "C_inv = np.linalg.inv(C)\n",
    "A = X.dot(C_inv)\n",
    "I = np.eye(X.shape[1])\n",
    "betas_fast = C_inv.dot(np.linalg.inv(A.T.dot(A) + lambd * I)).dot(A.T).dot(y)\n",
    "\n",
    "plt.subplot(1, 2, 1)\n",
    "plt.plot(betas_slow)\n",
    "plt.title(\"'Slow' method\")\n",
    "plt.subplot(1, 2, 2)\n",
    "plt.plot(betas_fast)\n",
    "plt.title(\"'Fast' method\")\n",
    "plt.tight_layout()"
   ]
  },
  {
   "cell_type": "markdown",
   "metadata": {},
   "source": [
    "I do, however, get the same output as the 'slow' method if I don't use the inverse, but the \"matrix square root\" (function: `sqrtm` from the `scipy.linalg` module) of $C$\\*:\n",
    "\n",
    "\\begin{align}\n",
    "\\hat{\\beta} = C^{1/2}(A^{T}A + \\lambda I)^{-1}X^{T}y\n",
    "\\end{align}\n",
    "\n",
    "with $A$ defined as:\n",
    "\n",
    "\\begin{align}\n",
    "A = XC^{1/2}\n",
    "\\end{align}\n",
    "\n",
    "This method, however, is *much* slower than the traditional implementation.\n",
    "\n",
    "---\n",
    "\\* Based on the [Github gist](https://gist.github.com/kingjr/926005eb0fba258c4ff380684cb0962b) by Jean-Rémi King."
   ]
  },
  {
   "cell_type": "code",
   "execution_count": null,
   "metadata": {},
   "outputs": [],
   "source": [
    "from scipy.linalg import sqrtm\n",
    "\n",
    "C_sqrtm = np.real(sqrtm(C))\n",
    "An = X.dot(C_sqrtm)\n",
    "betas_sqrtm = C_sqrtm.dot(np.linalg.inv(An.T.dot(An) + lambd * I)).dot(An.T).dot(y)\n",
    "\n",
    "plt.subplot(1, 2, 1)\n",
    "plt.plot(betas_slow)\n",
    "plt.title(\"'Slow' method\")\n",
    "plt.subplot(1, 2, 2)\n",
    "plt.plot(betas_sqrtm)\n",
    "plt.title(\"'Sqrtm' method\")\n",
    "plt.tight_layout()"
   ]
  }
 ],
 "metadata": {
  "kernelspec": {
   "display_name": "Python 3",
   "language": "python",
   "name": "python3"
  },
  "language_info": {
   "codemirror_mode": {
    "name": "ipython",
    "version": 3
   },
   "file_extension": ".py",
   "mimetype": "text/x-python",
   "name": "python",
   "nbconvert_exporter": "python",
   "pygments_lexer": "ipython3",
   "version": "3.6.1"
  }
 },
 "nbformat": 4,
 "nbformat_minor": 2
}
