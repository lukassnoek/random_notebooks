{
 "cells": [
  {
   "cell_type": "code",
   "execution_count": 3,
   "metadata": {},
   "outputs": [
    {
     "name": "stderr",
     "output_type": "stream",
     "text": [
      "/Users/lukas/anaconda3/lib/python3.6/importlib/_bootstrap.py:219: RuntimeWarning: numpy.dtype size changed, may indicate binary incompatibility. Expected 96, got 88\n",
      "  return f(*args, **kwds)\n"
     ]
    }
   ],
   "source": [
    "import numpy as np\n",
    "import matplotlib.pyplot as plt\n",
    "from sklearn.preprocessing import StandardScaler\n",
    "from sklearn.model_selection import cross_val_score\n",
    "from sklearn.pipeline import make_pipeline\n",
    "from sklearn.svm import SVC\n",
    "\n",
    "%matplotlib inline"
   ]
  },
  {
   "cell_type": "code",
   "execution_count": 44,
   "metadata": {},
   "outputs": [
    {
     "name": "stdout",
     "output_type": "stream",
     "text": [
      "0.79\n",
      "0.84\n",
      "0.72\n",
      "0.605\n"
     ]
    }
   ],
   "source": [
    "pipeline = make_pipeline(StandardScaler(), SVC(kernel='linear'))\n",
    "\n",
    "N, K = 100, 5\n",
    "X1 = np.random.normal(0, 1, (N, K))\n",
    "y1 = np.repeat([0, 1], int(N/2))\n",
    "X1[y1 == 1, ::2] += 1\n",
    "\n",
    "X2 = np.random.normal(0, 1, (N, K))\n",
    "y2 = np.repeat([0, 1], int(N/2))\n",
    "X2[y2 == 0, ::2] -= 1\n",
    "\n",
    "print(cross_val_score(pipeline, X1, y1, cv=2).mean())\n",
    "print(cross_val_score(pipeline, X2, y2, cv=2).mean())\n",
    "X12, y12 = np.vstack((X1, X2)), np.concatenate((y1, y2))\n",
    "print(cross_val_score(pipeline, X12, y12, cv=5).mean())\n",
    "\n",
    "score1 = pipeline.fit(X1, y1).score(X2, y2)\n",
    "score2 = pipeline.fit(X2, y2).score(X1, y1)\n",
    "print(np.mean([score1, score2]))"
   ]
  }
 ],
 "metadata": {
  "kernelspec": {
   "display_name": "Python 3",
   "language": "python",
   "name": "python3"
  },
  "language_info": {
   "codemirror_mode": {
    "name": "ipython",
    "version": 3
   },
   "file_extension": ".py",
   "mimetype": "text/x-python",
   "name": "python",
   "nbconvert_exporter": "python",
   "pygments_lexer": "ipython3",
   "version": "3.6.3"
  }
 },
 "nbformat": 4,
 "nbformat_minor": 2
}
