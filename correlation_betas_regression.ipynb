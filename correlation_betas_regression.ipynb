{
 "cells": [
  {
   "cell_type": "markdown",
   "metadata": {},
   "source": [
    "# Going from linear regression parameters to correlation"
   ]
  },
  {
   "cell_type": "code",
   "execution_count": 40,
   "metadata": {},
   "outputs": [],
   "source": [
    "import numpy as np\n",
    "from scipy.stats import pearsonr\n",
    "import matplotlib.pyplot as plt\n",
    "%matplotlib inline"
   ]
  },
  {
   "cell_type": "markdown",
   "metadata": {},
   "source": [
    "Let's generate some data."
   ]
  },
  {
   "cell_type": "code",
   "execution_count": 19,
   "metadata": {},
   "outputs": [],
   "source": [
    "N = 100\n",
    "X = np.random.normal(0, 2, (N, 1))\n",
    "X = np.hstack((np.ones((N, 1)), X))\n",
    "y = np.random.normal(0, 1, N)\n",
    "\n",
    "b = np.linalg.lstsq(X, y, rcond=None)[0]"
   ]
  },
  {
   "cell_type": "markdown",
   "metadata": {},
   "source": [
    "What is the correlation between the predictor and the target? "
   ]
  },
  {
   "cell_type": "code",
   "execution_count": 20,
   "metadata": {},
   "outputs": [
    {
     "name": "stdout",
     "output_type": "stream",
     "text": [
      "Correlation: -0.15013 (p = 0.136)\n"
     ]
    }
   ],
   "source": [
    "corr, p = pearsonr(X[:, 1], y)\n",
    "print(\"Correlation: %.5f (p = %.3f)\" % (corr, p))"
   ]
  },
  {
   "cell_type": "markdown",
   "metadata": {},
   "source": [
    "Now, we can also calculate the correlation from the linear regression parameter ($\\beta_{j}$) directly:\n",
    "\n",
    "\\begin{align}\n",
    "r_{X_{j}, y} = \\hat{\\beta}_{j} \\cdot \\frac{\\sigma_{X_{j}}}{\\sigma_{y}}\n",
    "\\end{align}\n",
    "\n",
    "which holds only for bivariate regression."
   ]
  },
  {
   "cell_type": "code",
   "execution_count": 21,
   "metadata": {},
   "outputs": [
    {
     "name": "stdout",
     "output_type": "stream",
     "text": [
      "Correlation calculated from parameter: -0.15013\n"
     ]
    }
   ],
   "source": [
    "corr_from_beta = b[1] * (X[:, 1].std() / y.std())\n",
    "print(\"Correlation calculated from parameter: %.5f\" % corr_from_beta)"
   ]
  },
  {
   "cell_type": "code",
   "execution_count": 46,
   "metadata": {},
   "outputs": [],
   "source": [
    "def semipartial_pearsonr(X, y, idx=0):\n",
    "    other_idx = np.ones(X.shape[1]).astype(bool)\n",
    "    other_idx[idx] = False\n",
    "    other_X = X[:, other_idx]\n",
    "    this_X = X[:, idx]\n",
    "    resid_y = y - other_X.dot(np.linalg.lstsq(other_X, y, rcond=None)[0])\n",
    "    return pearsonr(resid_y, this_X)[0]\n",
    "    #resid_X = this_X - other_X.dot(np.linalg.lstsq(other_X, this_X, rcond=None)[0])\n",
    "    #return pearsonr(resid_X, y)[0]\n",
    "\n",
    "def partial_pearsonr(X, y, idx=0):\n",
    "    other_idx = np.ones(X.shape[1]).astype(bool)\n",
    "    other_idx[idx] = False\n",
    "    other_X = X[:, other_idx]\n",
    "    this_X = X[:, idx]\n",
    "    resid_y = y - other_X.dot(np.linalg.lstsq(other_X, y, rcond=None)[0])\n",
    "    resid_X = this_X - other_X.dot(np.linalg.lstsq(other_X, this_X, rcond=None)[0])\n",
    "    return pearsonr(resid_y, resid_X)[0]"
   ]
  },
  {
   "cell_type": "code",
   "execution_count": 48,
   "metadata": {},
   "outputs": [
    {
     "name": "stdout",
     "output_type": "stream",
     "text": [
      "0.20251130419172506\n",
      "0.20267002428413428\n",
      "0.20506437871773314\n",
      "0.1770180139750527\n"
     ]
    }
   ],
   "source": [
    "X = np.random.normal(0, 2, (N, 2))\n",
    "X = np.hstack((np.ones((N, 1)), X))\n",
    "X[:, 1:] = (X[:, 1:] - X[:, 1:].mean(axis=0)) / X[:, 1:].std(axis=0)\n",
    "y = np.random.normal(0, 1, N)\n",
    "\n",
    "print(semipartial_pearsonr(X, y, idx=1))\n",
    "print(partial_pearsonr(X, y, idx=1))\n",
    "print(pearsonr(X[:, 1], y)[0])\n",
    "b = np.linalg.lstsq(X, y, rcond=None)[0]\n",
    "print(b[1])"
   ]
  }
 ],
 "metadata": {
  "kernelspec": {
   "display_name": "Python 3",
   "language": "python",
   "name": "python3"
  },
  "language_info": {
   "codemirror_mode": {
    "name": "ipython",
    "version": 3
   },
   "file_extension": ".py",
   "mimetype": "text/x-python",
   "name": "python",
   "nbconvert_exporter": "python",
   "pygments_lexer": "ipython3",
   "version": "3.6.3"
  }
 },
 "nbformat": 4,
 "nbformat_minor": 2
}
